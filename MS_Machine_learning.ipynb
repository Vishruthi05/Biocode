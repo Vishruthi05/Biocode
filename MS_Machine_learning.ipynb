{
  "nbformat": 4,
  "nbformat_minor": 0,
  "metadata": {
    "colab": {
      "provenance": [],
      "authorship_tag": "ABX9TyP4RBliCITsWIZv5wk5R1OK",
      "include_colab_link": true
    },
    "kernelspec": {
      "name": "python3",
      "display_name": "Python 3"
    },
    "language_info": {
      "name": "python"
    }
  },
  "cells": [
    {
      "cell_type": "markdown",
      "metadata": {
        "id": "view-in-github",
        "colab_type": "text"
      },
      "source": [
        "<a href=\"https://colab.research.google.com/github/Vishruthi05/Biocode/blob/main/MS_Machine_learning.ipynb\" target=\"_parent\"><img src=\"https://colab.research.google.com/assets/colab-badge.svg\" alt=\"Open In Colab\"/></a>"
      ]
    },
    {
      "cell_type": "code",
      "source": [
        "from google.colab import files\n",
        "uploaded = files.upload()"
      ],
      "metadata": {
        "colab": {
          "base_uri": "https://localhost:8080/",
          "height": 73
        },
        "id": "uI5XRmfXZ3LH",
        "outputId": "2cf9c3e3-589e-418d-8bb3-50e4acfb6d6f"
      },
      "execution_count": 105,
      "outputs": [
        {
          "output_type": "display_data",
          "data": {
            "text/plain": [
              "<IPython.core.display.HTML object>"
            ],
            "text/html": [
              "\n",
              "     <input type=\"file\" id=\"files-567d672e-b321-4cac-99eb-5846e842a26b\" name=\"files[]\" multiple disabled\n",
              "        style=\"border:none\" />\n",
              "     <output id=\"result-567d672e-b321-4cac-99eb-5846e842a26b\">\n",
              "      Upload widget is only available when the cell has been executed in the\n",
              "      current browser session. Please rerun this cell to enable.\n",
              "      </output>\n",
              "      <script>// Copyright 2017 Google LLC\n",
              "//\n",
              "// Licensed under the Apache License, Version 2.0 (the \"License\");\n",
              "// you may not use this file except in compliance with the License.\n",
              "// You may obtain a copy of the License at\n",
              "//\n",
              "//      http://www.apache.org/licenses/LICENSE-2.0\n",
              "//\n",
              "// Unless required by applicable law or agreed to in writing, software\n",
              "// distributed under the License is distributed on an \"AS IS\" BASIS,\n",
              "// WITHOUT WARRANTIES OR CONDITIONS OF ANY KIND, either express or implied.\n",
              "// See the License for the specific language governing permissions and\n",
              "// limitations under the License.\n",
              "\n",
              "/**\n",
              " * @fileoverview Helpers for google.colab Python module.\n",
              " */\n",
              "(function(scope) {\n",
              "function span(text, styleAttributes = {}) {\n",
              "  const element = document.createElement('span');\n",
              "  element.textContent = text;\n",
              "  for (const key of Object.keys(styleAttributes)) {\n",
              "    element.style[key] = styleAttributes[key];\n",
              "  }\n",
              "  return element;\n",
              "}\n",
              "\n",
              "// Max number of bytes which will be uploaded at a time.\n",
              "const MAX_PAYLOAD_SIZE = 100 * 1024;\n",
              "\n",
              "function _uploadFiles(inputId, outputId) {\n",
              "  const steps = uploadFilesStep(inputId, outputId);\n",
              "  const outputElement = document.getElementById(outputId);\n",
              "  // Cache steps on the outputElement to make it available for the next call\n",
              "  // to uploadFilesContinue from Python.\n",
              "  outputElement.steps = steps;\n",
              "\n",
              "  return _uploadFilesContinue(outputId);\n",
              "}\n",
              "\n",
              "// This is roughly an async generator (not supported in the browser yet),\n",
              "// where there are multiple asynchronous steps and the Python side is going\n",
              "// to poll for completion of each step.\n",
              "// This uses a Promise to block the python side on completion of each step,\n",
              "// then passes the result of the previous step as the input to the next step.\n",
              "function _uploadFilesContinue(outputId) {\n",
              "  const outputElement = document.getElementById(outputId);\n",
              "  const steps = outputElement.steps;\n",
              "\n",
              "  const next = steps.next(outputElement.lastPromiseValue);\n",
              "  return Promise.resolve(next.value.promise).then((value) => {\n",
              "    // Cache the last promise value to make it available to the next\n",
              "    // step of the generator.\n",
              "    outputElement.lastPromiseValue = value;\n",
              "    return next.value.response;\n",
              "  });\n",
              "}\n",
              "\n",
              "/**\n",
              " * Generator function which is called between each async step of the upload\n",
              " * process.\n",
              " * @param {string} inputId Element ID of the input file picker element.\n",
              " * @param {string} outputId Element ID of the output display.\n",
              " * @return {!Iterable<!Object>} Iterable of next steps.\n",
              " */\n",
              "function* uploadFilesStep(inputId, outputId) {\n",
              "  const inputElement = document.getElementById(inputId);\n",
              "  inputElement.disabled = false;\n",
              "\n",
              "  const outputElement = document.getElementById(outputId);\n",
              "  outputElement.innerHTML = '';\n",
              "\n",
              "  const pickedPromise = new Promise((resolve) => {\n",
              "    inputElement.addEventListener('change', (e) => {\n",
              "      resolve(e.target.files);\n",
              "    });\n",
              "  });\n",
              "\n",
              "  const cancel = document.createElement('button');\n",
              "  inputElement.parentElement.appendChild(cancel);\n",
              "  cancel.textContent = 'Cancel upload';\n",
              "  const cancelPromise = new Promise((resolve) => {\n",
              "    cancel.onclick = () => {\n",
              "      resolve(null);\n",
              "    };\n",
              "  });\n",
              "\n",
              "  // Wait for the user to pick the files.\n",
              "  const files = yield {\n",
              "    promise: Promise.race([pickedPromise, cancelPromise]),\n",
              "    response: {\n",
              "      action: 'starting',\n",
              "    }\n",
              "  };\n",
              "\n",
              "  cancel.remove();\n",
              "\n",
              "  // Disable the input element since further picks are not allowed.\n",
              "  inputElement.disabled = true;\n",
              "\n",
              "  if (!files) {\n",
              "    return {\n",
              "      response: {\n",
              "        action: 'complete',\n",
              "      }\n",
              "    };\n",
              "  }\n",
              "\n",
              "  for (const file of files) {\n",
              "    const li = document.createElement('li');\n",
              "    li.append(span(file.name, {fontWeight: 'bold'}));\n",
              "    li.append(span(\n",
              "        `(${file.type || 'n/a'}) - ${file.size} bytes, ` +\n",
              "        `last modified: ${\n",
              "            file.lastModifiedDate ? file.lastModifiedDate.toLocaleDateString() :\n",
              "                                    'n/a'} - `));\n",
              "    const percent = span('0% done');\n",
              "    li.appendChild(percent);\n",
              "\n",
              "    outputElement.appendChild(li);\n",
              "\n",
              "    const fileDataPromise = new Promise((resolve) => {\n",
              "      const reader = new FileReader();\n",
              "      reader.onload = (e) => {\n",
              "        resolve(e.target.result);\n",
              "      };\n",
              "      reader.readAsArrayBuffer(file);\n",
              "    });\n",
              "    // Wait for the data to be ready.\n",
              "    let fileData = yield {\n",
              "      promise: fileDataPromise,\n",
              "      response: {\n",
              "        action: 'continue',\n",
              "      }\n",
              "    };\n",
              "\n",
              "    // Use a chunked sending to avoid message size limits. See b/62115660.\n",
              "    let position = 0;\n",
              "    do {\n",
              "      const length = Math.min(fileData.byteLength - position, MAX_PAYLOAD_SIZE);\n",
              "      const chunk = new Uint8Array(fileData, position, length);\n",
              "      position += length;\n",
              "\n",
              "      const base64 = btoa(String.fromCharCode.apply(null, chunk));\n",
              "      yield {\n",
              "        response: {\n",
              "          action: 'append',\n",
              "          file: file.name,\n",
              "          data: base64,\n",
              "        },\n",
              "      };\n",
              "\n",
              "      let percentDone = fileData.byteLength === 0 ?\n",
              "          100 :\n",
              "          Math.round((position / fileData.byteLength) * 100);\n",
              "      percent.textContent = `${percentDone}% done`;\n",
              "\n",
              "    } while (position < fileData.byteLength);\n",
              "  }\n",
              "\n",
              "  // All done.\n",
              "  yield {\n",
              "    response: {\n",
              "      action: 'complete',\n",
              "    }\n",
              "  };\n",
              "}\n",
              "\n",
              "scope.google = scope.google || {};\n",
              "scope.google.colab = scope.google.colab || {};\n",
              "scope.google.colab._files = {\n",
              "  _uploadFiles,\n",
              "  _uploadFilesContinue,\n",
              "};\n",
              "})(self);\n",
              "</script> "
            ]
          },
          "metadata": {}
        },
        {
          "output_type": "stream",
          "name": "stdout",
          "text": [
            "Saving MS_1.xlsx to MS_1 (2).xlsx\n"
          ]
        }
      ]
    },
    {
      "cell_type": "code",
      "source": [
        "import io"
      ],
      "metadata": {
        "id": "VuopHxk1Zgld"
      },
      "execution_count": 106,
      "outputs": []
    },
    {
      "cell_type": "code",
      "source": [
        "import numpy as np\n",
        "import pandas as pd\n",
        "import matplotlib.pyplot as plt\n",
        "from sklearn.model_selection import train_test_split\n",
        "from sklearn.linear_model import LogisticRegression\n",
        "from sklearn.metrics import accuracy_score"
      ],
      "metadata": {
        "id": "e41tuxmJbphj"
      },
      "execution_count": 107,
      "outputs": []
    },
    {
      "cell_type": "code",
      "source": [
        "# Data collection and Data Processing"
      ],
      "metadata": {
        "id": "xX7knZIRcKBc"
      },
      "execution_count": 108,
      "outputs": []
    },
    {
      "cell_type": "code",
      "source": [
        "df2 = pd.read_excel(io.BytesIO(uploaded['MS_1 (2).xlsx']))"
      ],
      "metadata": {
        "id": "EQnvaXWmcneM"
      },
      "execution_count": 109,
      "outputs": []
    },
    {
      "cell_type": "code",
      "source": [
        "df2.head()"
      ],
      "metadata": {
        "colab": {
          "base_uri": "https://localhost:8080/",
          "height": 255
        },
        "id": "5YiNGGSlcsKZ",
        "outputId": "e424bb50-8941-47fd-92a2-dcb4a32530da"
      },
      "execution_count": 110,
      "outputs": [
        {
          "output_type": "execute_result",
          "data": {
            "text/plain": [
              "     HBD   LTF  HBG2///HBG1  ALAS2  BOD1L1  HBG2///HBG1.1  MALAT1  \\\n",
              "0  123.9  12.9         13.9   31.3     9.1           36.7   372.7   \n",
              "1   53.6  11.5         87.7   10.4    10.4          100.4   604.7   \n",
              "2   42.2   8.2         45.8   10.4    15.1           36.8  1492.0   \n",
              "3   13.6  86.9         12.8    6.3     8.4            9.1   893.8   \n",
              "4   56.5   7.7         67.6    8.7    10.3           46.9   703.9   \n",
              "\n",
              "   DEFA1B///DEFA3///DEFA1  SAMSN1  HBG2///HBG1.2  ...  CASP2  FCAR  MOB3A  \\\n",
              "0                   707.7     8.5           42.2  ...   39.6  32.2  224.5   \n",
              "1                   138.3    50.2          103.7  ...   41.0  54.3  155.6   \n",
              "2                   163.9    36.6           58.1  ...   37.4  43.4  129.7   \n",
              "3                   348.1    11.3           12.2  ...   39.6  14.0  147.6   \n",
              "4                   296.9    12.4           57.8  ...   49.7  28.4  140.3   \n",
              "\n",
              "   EIF2S3  SNRNP40   UBA6  MAT2A  HSPA1B///HSPA1A  C1orf174  Outcome  \n",
              "0   971.7    144.6  307.5  165.4             90.8      83.2        0  \n",
              "1   726.2    106.1  159.6  146.7            213.0      91.9        0  \n",
              "2  1046.2    126.0  215.6   98.3            147.6      70.1        0  \n",
              "3   778.3    165.4  310.3  122.4             50.0      82.1        0  \n",
              "4   814.1    149.6  143.7  134.3            187.6     116.7        0  \n",
              "\n",
              "[5 rows x 38 columns]"
            ],
            "text/html": [
              "\n",
              "  <div id=\"df-b97f5b04-f5d6-45c3-8bba-05518faa4f02\" class=\"colab-df-container\">\n",
              "    <div>\n",
              "<style scoped>\n",
              "    .dataframe tbody tr th:only-of-type {\n",
              "        vertical-align: middle;\n",
              "    }\n",
              "\n",
              "    .dataframe tbody tr th {\n",
              "        vertical-align: top;\n",
              "    }\n",
              "\n",
              "    .dataframe thead th {\n",
              "        text-align: right;\n",
              "    }\n",
              "</style>\n",
              "<table border=\"1\" class=\"dataframe\">\n",
              "  <thead>\n",
              "    <tr style=\"text-align: right;\">\n",
              "      <th></th>\n",
              "      <th>HBD</th>\n",
              "      <th>LTF</th>\n",
              "      <th>HBG2///HBG1</th>\n",
              "      <th>ALAS2</th>\n",
              "      <th>BOD1L1</th>\n",
              "      <th>HBG2///HBG1.1</th>\n",
              "      <th>MALAT1</th>\n",
              "      <th>DEFA1B///DEFA3///DEFA1</th>\n",
              "      <th>SAMSN1</th>\n",
              "      <th>HBG2///HBG1.2</th>\n",
              "      <th>...</th>\n",
              "      <th>CASP2</th>\n",
              "      <th>FCAR</th>\n",
              "      <th>MOB3A</th>\n",
              "      <th>EIF2S3</th>\n",
              "      <th>SNRNP40</th>\n",
              "      <th>UBA6</th>\n",
              "      <th>MAT2A</th>\n",
              "      <th>HSPA1B///HSPA1A</th>\n",
              "      <th>C1orf174</th>\n",
              "      <th>Outcome</th>\n",
              "    </tr>\n",
              "  </thead>\n",
              "  <tbody>\n",
              "    <tr>\n",
              "      <th>0</th>\n",
              "      <td>123.9</td>\n",
              "      <td>12.9</td>\n",
              "      <td>13.9</td>\n",
              "      <td>31.3</td>\n",
              "      <td>9.1</td>\n",
              "      <td>36.7</td>\n",
              "      <td>372.7</td>\n",
              "      <td>707.7</td>\n",
              "      <td>8.5</td>\n",
              "      <td>42.2</td>\n",
              "      <td>...</td>\n",
              "      <td>39.6</td>\n",
              "      <td>32.2</td>\n",
              "      <td>224.5</td>\n",
              "      <td>971.7</td>\n",
              "      <td>144.6</td>\n",
              "      <td>307.5</td>\n",
              "      <td>165.4</td>\n",
              "      <td>90.8</td>\n",
              "      <td>83.2</td>\n",
              "      <td>0</td>\n",
              "    </tr>\n",
              "    <tr>\n",
              "      <th>1</th>\n",
              "      <td>53.6</td>\n",
              "      <td>11.5</td>\n",
              "      <td>87.7</td>\n",
              "      <td>10.4</td>\n",
              "      <td>10.4</td>\n",
              "      <td>100.4</td>\n",
              "      <td>604.7</td>\n",
              "      <td>138.3</td>\n",
              "      <td>50.2</td>\n",
              "      <td>103.7</td>\n",
              "      <td>...</td>\n",
              "      <td>41.0</td>\n",
              "      <td>54.3</td>\n",
              "      <td>155.6</td>\n",
              "      <td>726.2</td>\n",
              "      <td>106.1</td>\n",
              "      <td>159.6</td>\n",
              "      <td>146.7</td>\n",
              "      <td>213.0</td>\n",
              "      <td>91.9</td>\n",
              "      <td>0</td>\n",
              "    </tr>\n",
              "    <tr>\n",
              "      <th>2</th>\n",
              "      <td>42.2</td>\n",
              "      <td>8.2</td>\n",
              "      <td>45.8</td>\n",
              "      <td>10.4</td>\n",
              "      <td>15.1</td>\n",
              "      <td>36.8</td>\n",
              "      <td>1492.0</td>\n",
              "      <td>163.9</td>\n",
              "      <td>36.6</td>\n",
              "      <td>58.1</td>\n",
              "      <td>...</td>\n",
              "      <td>37.4</td>\n",
              "      <td>43.4</td>\n",
              "      <td>129.7</td>\n",
              "      <td>1046.2</td>\n",
              "      <td>126.0</td>\n",
              "      <td>215.6</td>\n",
              "      <td>98.3</td>\n",
              "      <td>147.6</td>\n",
              "      <td>70.1</td>\n",
              "      <td>0</td>\n",
              "    </tr>\n",
              "    <tr>\n",
              "      <th>3</th>\n",
              "      <td>13.6</td>\n",
              "      <td>86.9</td>\n",
              "      <td>12.8</td>\n",
              "      <td>6.3</td>\n",
              "      <td>8.4</td>\n",
              "      <td>9.1</td>\n",
              "      <td>893.8</td>\n",
              "      <td>348.1</td>\n",
              "      <td>11.3</td>\n",
              "      <td>12.2</td>\n",
              "      <td>...</td>\n",
              "      <td>39.6</td>\n",
              "      <td>14.0</td>\n",
              "      <td>147.6</td>\n",
              "      <td>778.3</td>\n",
              "      <td>165.4</td>\n",
              "      <td>310.3</td>\n",
              "      <td>122.4</td>\n",
              "      <td>50.0</td>\n",
              "      <td>82.1</td>\n",
              "      <td>0</td>\n",
              "    </tr>\n",
              "    <tr>\n",
              "      <th>4</th>\n",
              "      <td>56.5</td>\n",
              "      <td>7.7</td>\n",
              "      <td>67.6</td>\n",
              "      <td>8.7</td>\n",
              "      <td>10.3</td>\n",
              "      <td>46.9</td>\n",
              "      <td>703.9</td>\n",
              "      <td>296.9</td>\n",
              "      <td>12.4</td>\n",
              "      <td>57.8</td>\n",
              "      <td>...</td>\n",
              "      <td>49.7</td>\n",
              "      <td>28.4</td>\n",
              "      <td>140.3</td>\n",
              "      <td>814.1</td>\n",
              "      <td>149.6</td>\n",
              "      <td>143.7</td>\n",
              "      <td>134.3</td>\n",
              "      <td>187.6</td>\n",
              "      <td>116.7</td>\n",
              "      <td>0</td>\n",
              "    </tr>\n",
              "  </tbody>\n",
              "</table>\n",
              "<p>5 rows × 38 columns</p>\n",
              "</div>\n",
              "    <div class=\"colab-df-buttons\">\n",
              "\n",
              "  <div class=\"colab-df-container\">\n",
              "    <button class=\"colab-df-convert\" onclick=\"convertToInteractive('df-b97f5b04-f5d6-45c3-8bba-05518faa4f02')\"\n",
              "            title=\"Convert this dataframe to an interactive table.\"\n",
              "            style=\"display:none;\">\n",
              "\n",
              "  <svg xmlns=\"http://www.w3.org/2000/svg\" height=\"24px\" viewBox=\"0 -960 960 960\">\n",
              "    <path d=\"M120-120v-720h720v720H120Zm60-500h600v-160H180v160Zm220 220h160v-160H400v160Zm0 220h160v-160H400v160ZM180-400h160v-160H180v160Zm440 0h160v-160H620v160ZM180-180h160v-160H180v160Zm440 0h160v-160H620v160Z\"/>\n",
              "  </svg>\n",
              "    </button>\n",
              "\n",
              "  <style>\n",
              "    .colab-df-container {\n",
              "      display:flex;\n",
              "      gap: 12px;\n",
              "    }\n",
              "\n",
              "    .colab-df-convert {\n",
              "      background-color: #E8F0FE;\n",
              "      border: none;\n",
              "      border-radius: 50%;\n",
              "      cursor: pointer;\n",
              "      display: none;\n",
              "      fill: #1967D2;\n",
              "      height: 32px;\n",
              "      padding: 0 0 0 0;\n",
              "      width: 32px;\n",
              "    }\n",
              "\n",
              "    .colab-df-convert:hover {\n",
              "      background-color: #E2EBFA;\n",
              "      box-shadow: 0px 1px 2px rgba(60, 64, 67, 0.3), 0px 1px 3px 1px rgba(60, 64, 67, 0.15);\n",
              "      fill: #174EA6;\n",
              "    }\n",
              "\n",
              "    .colab-df-buttons div {\n",
              "      margin-bottom: 4px;\n",
              "    }\n",
              "\n",
              "    [theme=dark] .colab-df-convert {\n",
              "      background-color: #3B4455;\n",
              "      fill: #D2E3FC;\n",
              "    }\n",
              "\n",
              "    [theme=dark] .colab-df-convert:hover {\n",
              "      background-color: #434B5C;\n",
              "      box-shadow: 0px 1px 3px 1px rgba(0, 0, 0, 0.15);\n",
              "      filter: drop-shadow(0px 1px 2px rgba(0, 0, 0, 0.3));\n",
              "      fill: #FFFFFF;\n",
              "    }\n",
              "  </style>\n",
              "\n",
              "    <script>\n",
              "      const buttonEl =\n",
              "        document.querySelector('#df-b97f5b04-f5d6-45c3-8bba-05518faa4f02 button.colab-df-convert');\n",
              "      buttonEl.style.display =\n",
              "        google.colab.kernel.accessAllowed ? 'block' : 'none';\n",
              "\n",
              "      async function convertToInteractive(key) {\n",
              "        const element = document.querySelector('#df-b97f5b04-f5d6-45c3-8bba-05518faa4f02');\n",
              "        const dataTable =\n",
              "          await google.colab.kernel.invokeFunction('convertToInteractive',\n",
              "                                                    [key], {});\n",
              "        if (!dataTable) return;\n",
              "\n",
              "        const docLinkHtml = 'Like what you see? Visit the ' +\n",
              "          '<a target=\"_blank\" href=https://colab.research.google.com/notebooks/data_table.ipynb>data table notebook</a>'\n",
              "          + ' to learn more about interactive tables.';\n",
              "        element.innerHTML = '';\n",
              "        dataTable['output_type'] = 'display_data';\n",
              "        await google.colab.output.renderOutput(dataTable, element);\n",
              "        const docLink = document.createElement('div');\n",
              "        docLink.innerHTML = docLinkHtml;\n",
              "        element.appendChild(docLink);\n",
              "      }\n",
              "    </script>\n",
              "  </div>\n",
              "\n",
              "\n",
              "<div id=\"df-aeabed6c-5517-45c7-8355-6bbfc879890e\">\n",
              "  <button class=\"colab-df-quickchart\" onclick=\"quickchart('df-aeabed6c-5517-45c7-8355-6bbfc879890e')\"\n",
              "            title=\"Suggest charts.\"\n",
              "            style=\"display:none;\">\n",
              "\n",
              "<svg xmlns=\"http://www.w3.org/2000/svg\" height=\"24px\"viewBox=\"0 0 24 24\"\n",
              "     width=\"24px\">\n",
              "    <g>\n",
              "        <path d=\"M19 3H5c-1.1 0-2 .9-2 2v14c0 1.1.9 2 2 2h14c1.1 0 2-.9 2-2V5c0-1.1-.9-2-2-2zM9 17H7v-7h2v7zm4 0h-2V7h2v10zm4 0h-2v-4h2v4z\"/>\n",
              "    </g>\n",
              "</svg>\n",
              "  </button>\n",
              "\n",
              "<style>\n",
              "  .colab-df-quickchart {\n",
              "      --bg-color: #E8F0FE;\n",
              "      --fill-color: #1967D2;\n",
              "      --hover-bg-color: #E2EBFA;\n",
              "      --hover-fill-color: #174EA6;\n",
              "      --disabled-fill-color: #AAA;\n",
              "      --disabled-bg-color: #DDD;\n",
              "  }\n",
              "\n",
              "  [theme=dark] .colab-df-quickchart {\n",
              "      --bg-color: #3B4455;\n",
              "      --fill-color: #D2E3FC;\n",
              "      --hover-bg-color: #434B5C;\n",
              "      --hover-fill-color: #FFFFFF;\n",
              "      --disabled-bg-color: #3B4455;\n",
              "      --disabled-fill-color: #666;\n",
              "  }\n",
              "\n",
              "  .colab-df-quickchart {\n",
              "    background-color: var(--bg-color);\n",
              "    border: none;\n",
              "    border-radius: 50%;\n",
              "    cursor: pointer;\n",
              "    display: none;\n",
              "    fill: var(--fill-color);\n",
              "    height: 32px;\n",
              "    padding: 0;\n",
              "    width: 32px;\n",
              "  }\n",
              "\n",
              "  .colab-df-quickchart:hover {\n",
              "    background-color: var(--hover-bg-color);\n",
              "    box-shadow: 0 1px 2px rgba(60, 64, 67, 0.3), 0 1px 3px 1px rgba(60, 64, 67, 0.15);\n",
              "    fill: var(--button-hover-fill-color);\n",
              "  }\n",
              "\n",
              "  .colab-df-quickchart-complete:disabled,\n",
              "  .colab-df-quickchart-complete:disabled:hover {\n",
              "    background-color: var(--disabled-bg-color);\n",
              "    fill: var(--disabled-fill-color);\n",
              "    box-shadow: none;\n",
              "  }\n",
              "\n",
              "  .colab-df-spinner {\n",
              "    border: 2px solid var(--fill-color);\n",
              "    border-color: transparent;\n",
              "    border-bottom-color: var(--fill-color);\n",
              "    animation:\n",
              "      spin 1s steps(1) infinite;\n",
              "  }\n",
              "\n",
              "  @keyframes spin {\n",
              "    0% {\n",
              "      border-color: transparent;\n",
              "      border-bottom-color: var(--fill-color);\n",
              "      border-left-color: var(--fill-color);\n",
              "    }\n",
              "    20% {\n",
              "      border-color: transparent;\n",
              "      border-left-color: var(--fill-color);\n",
              "      border-top-color: var(--fill-color);\n",
              "    }\n",
              "    30% {\n",
              "      border-color: transparent;\n",
              "      border-left-color: var(--fill-color);\n",
              "      border-top-color: var(--fill-color);\n",
              "      border-right-color: var(--fill-color);\n",
              "    }\n",
              "    40% {\n",
              "      border-color: transparent;\n",
              "      border-right-color: var(--fill-color);\n",
              "      border-top-color: var(--fill-color);\n",
              "    }\n",
              "    60% {\n",
              "      border-color: transparent;\n",
              "      border-right-color: var(--fill-color);\n",
              "    }\n",
              "    80% {\n",
              "      border-color: transparent;\n",
              "      border-right-color: var(--fill-color);\n",
              "      border-bottom-color: var(--fill-color);\n",
              "    }\n",
              "    90% {\n",
              "      border-color: transparent;\n",
              "      border-bottom-color: var(--fill-color);\n",
              "    }\n",
              "  }\n",
              "</style>\n",
              "\n",
              "  <script>\n",
              "    async function quickchart(key) {\n",
              "      const quickchartButtonEl =\n",
              "        document.querySelector('#' + key + ' button');\n",
              "      quickchartButtonEl.disabled = true;  // To prevent multiple clicks.\n",
              "      quickchartButtonEl.classList.add('colab-df-spinner');\n",
              "      try {\n",
              "        const charts = await google.colab.kernel.invokeFunction(\n",
              "            'suggestCharts', [key], {});\n",
              "      } catch (error) {\n",
              "        console.error('Error during call to suggestCharts:', error);\n",
              "      }\n",
              "      quickchartButtonEl.classList.remove('colab-df-spinner');\n",
              "      quickchartButtonEl.classList.add('colab-df-quickchart-complete');\n",
              "    }\n",
              "    (() => {\n",
              "      let quickchartButtonEl =\n",
              "        document.querySelector('#df-aeabed6c-5517-45c7-8355-6bbfc879890e button');\n",
              "      quickchartButtonEl.style.display =\n",
              "        google.colab.kernel.accessAllowed ? 'block' : 'none';\n",
              "    })();\n",
              "  </script>\n",
              "</div>\n",
              "    </div>\n",
              "  </div>\n"
            ]
          },
          "metadata": {},
          "execution_count": 110
        }
      ]
    },
    {
      "cell_type": "code",
      "source": [
        "df2.shape"
      ],
      "metadata": {
        "colab": {
          "base_uri": "https://localhost:8080/"
        },
        "id": "UUXhjjewc2w7",
        "outputId": "74e2596f-db6e-4151-d7c6-5cdaddc97a40"
      },
      "execution_count": 111,
      "outputs": [
        {
          "output_type": "execute_result",
          "data": {
            "text/plain": [
              "(29, 38)"
            ]
          },
          "metadata": {},
          "execution_count": 111
        }
      ]
    },
    {
      "cell_type": "code",
      "source": [
        "df2.describe()"
      ],
      "metadata": {
        "colab": {
          "base_uri": "https://localhost:8080/",
          "height": 349
        },
        "id": "UdauzA1RdDPl",
        "outputId": "9121939d-b239-443f-9766-c174c2e75693"
      },
      "execution_count": 112,
      "outputs": [
        {
          "output_type": "execute_result",
          "data": {
            "text/plain": [
              "                HBD         LTF  HBG2///HBG1        ALAS2      BOD1L1  \\\n",
              "count     29.000000   29.000000    29.000000    29.000000   29.000000   \n",
              "mean    1095.989655  126.189655   584.479310   319.148276  113.710345   \n",
              "std     4255.637287  154.881917  1153.084619  1308.387258  150.326374   \n",
              "min       13.600000    7.100000    12.800000     5.300000    8.400000   \n",
              "25%       35.400000    9.100000    45.800000     8.800000    9.100000   \n",
              "50%      123.900000   33.600000   201.700000    21.400000   11.800000   \n",
              "75%      536.700000  248.300000   667.300000   126.500000  256.900000   \n",
              "max    23146.200000  488.800000  5854.600000  7101.200000  511.100000   \n",
              "\n",
              "       HBG2///HBG1.1        MALAT1  DEFA1B///DEFA3///DEFA1      SAMSN1  \\\n",
              "count      29.000000     29.000000               29.000000   29.000000   \n",
              "mean      542.437931   5603.096552             1969.737931  128.382759   \n",
              "std      1052.828528   6982.970793             2578.255334  172.791336   \n",
              "min         9.100000    277.200000               25.600000    8.500000   \n",
              "25%        39.100000    520.100000              173.400000   13.100000   \n",
              "50%       176.400000   1098.100000              605.900000   36.600000   \n",
              "75%       520.600000  11997.400000             3679.400000  169.900000   \n",
              "max      5374.600000  19645.800000             9602.800000  540.100000   \n",
              "\n",
              "       HBG2///HBG1.2  ...       CASP2       FCAR       MOB3A       EIF2S3  \\\n",
              "count      29.000000  ...   29.000000  29.000000   29.000000    29.000000   \n",
              "mean      547.327586  ...   33.437931  21.610345  111.213793   602.610345   \n",
              "std      1131.360288  ...   24.198279  17.654185   74.221116   402.107650   \n",
              "min        12.200000  ...    6.900000   5.600000   15.800000    93.500000   \n",
              "25%        57.800000  ...    8.600000   6.300000   37.800000   231.700000   \n",
              "50%       167.600000  ...   37.400000  14.800000  115.700000   612.200000   \n",
              "75%       531.200000  ...   46.600000  32.200000  165.300000   902.400000   \n",
              "max      5791.800000  ...  101.400000  64.600000  240.400000  1358.700000   \n",
              "\n",
              "          SNRNP40        UBA6       MAT2A  HSPA1B///HSPA1A    C1orf174  \\\n",
              "count   29.000000   29.000000   29.000000        29.000000   29.000000   \n",
              "mean    92.513793  141.617241   92.475862        97.262069   60.486207   \n",
              "std     55.002518   88.282085   55.788738        66.517503   35.877477   \n",
              "min     17.100000    9.200000   20.800000        19.600000    8.800000   \n",
              "25%     33.700000   69.900000   29.300000        36.900000   20.700000   \n",
              "50%    106.100000  134.400000   98.300000        66.000000   70.100000   \n",
              "75%    141.700000  215.600000  134.300000       158.800000   90.300000   \n",
              "max    182.700000  310.300000  187.200000       213.900000  116.700000   \n",
              "\n",
              "         Outcome  \n",
              "count  29.000000  \n",
              "mean    0.482759  \n",
              "std     0.508548  \n",
              "min     0.000000  \n",
              "25%     0.000000  \n",
              "50%     0.000000  \n",
              "75%     1.000000  \n",
              "max     1.000000  \n",
              "\n",
              "[8 rows x 38 columns]"
            ],
            "text/html": [
              "\n",
              "  <div id=\"df-93e3644e-b62f-4011-9dd6-d1fd795c28b1\" class=\"colab-df-container\">\n",
              "    <div>\n",
              "<style scoped>\n",
              "    .dataframe tbody tr th:only-of-type {\n",
              "        vertical-align: middle;\n",
              "    }\n",
              "\n",
              "    .dataframe tbody tr th {\n",
              "        vertical-align: top;\n",
              "    }\n",
              "\n",
              "    .dataframe thead th {\n",
              "        text-align: right;\n",
              "    }\n",
              "</style>\n",
              "<table border=\"1\" class=\"dataframe\">\n",
              "  <thead>\n",
              "    <tr style=\"text-align: right;\">\n",
              "      <th></th>\n",
              "      <th>HBD</th>\n",
              "      <th>LTF</th>\n",
              "      <th>HBG2///HBG1</th>\n",
              "      <th>ALAS2</th>\n",
              "      <th>BOD1L1</th>\n",
              "      <th>HBG2///HBG1.1</th>\n",
              "      <th>MALAT1</th>\n",
              "      <th>DEFA1B///DEFA3///DEFA1</th>\n",
              "      <th>SAMSN1</th>\n",
              "      <th>HBG2///HBG1.2</th>\n",
              "      <th>...</th>\n",
              "      <th>CASP2</th>\n",
              "      <th>FCAR</th>\n",
              "      <th>MOB3A</th>\n",
              "      <th>EIF2S3</th>\n",
              "      <th>SNRNP40</th>\n",
              "      <th>UBA6</th>\n",
              "      <th>MAT2A</th>\n",
              "      <th>HSPA1B///HSPA1A</th>\n",
              "      <th>C1orf174</th>\n",
              "      <th>Outcome</th>\n",
              "    </tr>\n",
              "  </thead>\n",
              "  <tbody>\n",
              "    <tr>\n",
              "      <th>count</th>\n",
              "      <td>29.000000</td>\n",
              "      <td>29.000000</td>\n",
              "      <td>29.000000</td>\n",
              "      <td>29.000000</td>\n",
              "      <td>29.000000</td>\n",
              "      <td>29.000000</td>\n",
              "      <td>29.000000</td>\n",
              "      <td>29.000000</td>\n",
              "      <td>29.000000</td>\n",
              "      <td>29.000000</td>\n",
              "      <td>...</td>\n",
              "      <td>29.000000</td>\n",
              "      <td>29.000000</td>\n",
              "      <td>29.000000</td>\n",
              "      <td>29.000000</td>\n",
              "      <td>29.000000</td>\n",
              "      <td>29.000000</td>\n",
              "      <td>29.000000</td>\n",
              "      <td>29.000000</td>\n",
              "      <td>29.000000</td>\n",
              "      <td>29.000000</td>\n",
              "    </tr>\n",
              "    <tr>\n",
              "      <th>mean</th>\n",
              "      <td>1095.989655</td>\n",
              "      <td>126.189655</td>\n",
              "      <td>584.479310</td>\n",
              "      <td>319.148276</td>\n",
              "      <td>113.710345</td>\n",
              "      <td>542.437931</td>\n",
              "      <td>5603.096552</td>\n",
              "      <td>1969.737931</td>\n",
              "      <td>128.382759</td>\n",
              "      <td>547.327586</td>\n",
              "      <td>...</td>\n",
              "      <td>33.437931</td>\n",
              "      <td>21.610345</td>\n",
              "      <td>111.213793</td>\n",
              "      <td>602.610345</td>\n",
              "      <td>92.513793</td>\n",
              "      <td>141.617241</td>\n",
              "      <td>92.475862</td>\n",
              "      <td>97.262069</td>\n",
              "      <td>60.486207</td>\n",
              "      <td>0.482759</td>\n",
              "    </tr>\n",
              "    <tr>\n",
              "      <th>std</th>\n",
              "      <td>4255.637287</td>\n",
              "      <td>154.881917</td>\n",
              "      <td>1153.084619</td>\n",
              "      <td>1308.387258</td>\n",
              "      <td>150.326374</td>\n",
              "      <td>1052.828528</td>\n",
              "      <td>6982.970793</td>\n",
              "      <td>2578.255334</td>\n",
              "      <td>172.791336</td>\n",
              "      <td>1131.360288</td>\n",
              "      <td>...</td>\n",
              "      <td>24.198279</td>\n",
              "      <td>17.654185</td>\n",
              "      <td>74.221116</td>\n",
              "      <td>402.107650</td>\n",
              "      <td>55.002518</td>\n",
              "      <td>88.282085</td>\n",
              "      <td>55.788738</td>\n",
              "      <td>66.517503</td>\n",
              "      <td>35.877477</td>\n",
              "      <td>0.508548</td>\n",
              "    </tr>\n",
              "    <tr>\n",
              "      <th>min</th>\n",
              "      <td>13.600000</td>\n",
              "      <td>7.100000</td>\n",
              "      <td>12.800000</td>\n",
              "      <td>5.300000</td>\n",
              "      <td>8.400000</td>\n",
              "      <td>9.100000</td>\n",
              "      <td>277.200000</td>\n",
              "      <td>25.600000</td>\n",
              "      <td>8.500000</td>\n",
              "      <td>12.200000</td>\n",
              "      <td>...</td>\n",
              "      <td>6.900000</td>\n",
              "      <td>5.600000</td>\n",
              "      <td>15.800000</td>\n",
              "      <td>93.500000</td>\n",
              "      <td>17.100000</td>\n",
              "      <td>9.200000</td>\n",
              "      <td>20.800000</td>\n",
              "      <td>19.600000</td>\n",
              "      <td>8.800000</td>\n",
              "      <td>0.000000</td>\n",
              "    </tr>\n",
              "    <tr>\n",
              "      <th>25%</th>\n",
              "      <td>35.400000</td>\n",
              "      <td>9.100000</td>\n",
              "      <td>45.800000</td>\n",
              "      <td>8.800000</td>\n",
              "      <td>9.100000</td>\n",
              "      <td>39.100000</td>\n",
              "      <td>520.100000</td>\n",
              "      <td>173.400000</td>\n",
              "      <td>13.100000</td>\n",
              "      <td>57.800000</td>\n",
              "      <td>...</td>\n",
              "      <td>8.600000</td>\n",
              "      <td>6.300000</td>\n",
              "      <td>37.800000</td>\n",
              "      <td>231.700000</td>\n",
              "      <td>33.700000</td>\n",
              "      <td>69.900000</td>\n",
              "      <td>29.300000</td>\n",
              "      <td>36.900000</td>\n",
              "      <td>20.700000</td>\n",
              "      <td>0.000000</td>\n",
              "    </tr>\n",
              "    <tr>\n",
              "      <th>50%</th>\n",
              "      <td>123.900000</td>\n",
              "      <td>33.600000</td>\n",
              "      <td>201.700000</td>\n",
              "      <td>21.400000</td>\n",
              "      <td>11.800000</td>\n",
              "      <td>176.400000</td>\n",
              "      <td>1098.100000</td>\n",
              "      <td>605.900000</td>\n",
              "      <td>36.600000</td>\n",
              "      <td>167.600000</td>\n",
              "      <td>...</td>\n",
              "      <td>37.400000</td>\n",
              "      <td>14.800000</td>\n",
              "      <td>115.700000</td>\n",
              "      <td>612.200000</td>\n",
              "      <td>106.100000</td>\n",
              "      <td>134.400000</td>\n",
              "      <td>98.300000</td>\n",
              "      <td>66.000000</td>\n",
              "      <td>70.100000</td>\n",
              "      <td>0.000000</td>\n",
              "    </tr>\n",
              "    <tr>\n",
              "      <th>75%</th>\n",
              "      <td>536.700000</td>\n",
              "      <td>248.300000</td>\n",
              "      <td>667.300000</td>\n",
              "      <td>126.500000</td>\n",
              "      <td>256.900000</td>\n",
              "      <td>520.600000</td>\n",
              "      <td>11997.400000</td>\n",
              "      <td>3679.400000</td>\n",
              "      <td>169.900000</td>\n",
              "      <td>531.200000</td>\n",
              "      <td>...</td>\n",
              "      <td>46.600000</td>\n",
              "      <td>32.200000</td>\n",
              "      <td>165.300000</td>\n",
              "      <td>902.400000</td>\n",
              "      <td>141.700000</td>\n",
              "      <td>215.600000</td>\n",
              "      <td>134.300000</td>\n",
              "      <td>158.800000</td>\n",
              "      <td>90.300000</td>\n",
              "      <td>1.000000</td>\n",
              "    </tr>\n",
              "    <tr>\n",
              "      <th>max</th>\n",
              "      <td>23146.200000</td>\n",
              "      <td>488.800000</td>\n",
              "      <td>5854.600000</td>\n",
              "      <td>7101.200000</td>\n",
              "      <td>511.100000</td>\n",
              "      <td>5374.600000</td>\n",
              "      <td>19645.800000</td>\n",
              "      <td>9602.800000</td>\n",
              "      <td>540.100000</td>\n",
              "      <td>5791.800000</td>\n",
              "      <td>...</td>\n",
              "      <td>101.400000</td>\n",
              "      <td>64.600000</td>\n",
              "      <td>240.400000</td>\n",
              "      <td>1358.700000</td>\n",
              "      <td>182.700000</td>\n",
              "      <td>310.300000</td>\n",
              "      <td>187.200000</td>\n",
              "      <td>213.900000</td>\n",
              "      <td>116.700000</td>\n",
              "      <td>1.000000</td>\n",
              "    </tr>\n",
              "  </tbody>\n",
              "</table>\n",
              "<p>8 rows × 38 columns</p>\n",
              "</div>\n",
              "    <div class=\"colab-df-buttons\">\n",
              "\n",
              "  <div class=\"colab-df-container\">\n",
              "    <button class=\"colab-df-convert\" onclick=\"convertToInteractive('df-93e3644e-b62f-4011-9dd6-d1fd795c28b1')\"\n",
              "            title=\"Convert this dataframe to an interactive table.\"\n",
              "            style=\"display:none;\">\n",
              "\n",
              "  <svg xmlns=\"http://www.w3.org/2000/svg\" height=\"24px\" viewBox=\"0 -960 960 960\">\n",
              "    <path d=\"M120-120v-720h720v720H120Zm60-500h600v-160H180v160Zm220 220h160v-160H400v160Zm0 220h160v-160H400v160ZM180-400h160v-160H180v160Zm440 0h160v-160H620v160ZM180-180h160v-160H180v160Zm440 0h160v-160H620v160Z\"/>\n",
              "  </svg>\n",
              "    </button>\n",
              "\n",
              "  <style>\n",
              "    .colab-df-container {\n",
              "      display:flex;\n",
              "      gap: 12px;\n",
              "    }\n",
              "\n",
              "    .colab-df-convert {\n",
              "      background-color: #E8F0FE;\n",
              "      border: none;\n",
              "      border-radius: 50%;\n",
              "      cursor: pointer;\n",
              "      display: none;\n",
              "      fill: #1967D2;\n",
              "      height: 32px;\n",
              "      padding: 0 0 0 0;\n",
              "      width: 32px;\n",
              "    }\n",
              "\n",
              "    .colab-df-convert:hover {\n",
              "      background-color: #E2EBFA;\n",
              "      box-shadow: 0px 1px 2px rgba(60, 64, 67, 0.3), 0px 1px 3px 1px rgba(60, 64, 67, 0.15);\n",
              "      fill: #174EA6;\n",
              "    }\n",
              "\n",
              "    .colab-df-buttons div {\n",
              "      margin-bottom: 4px;\n",
              "    }\n",
              "\n",
              "    [theme=dark] .colab-df-convert {\n",
              "      background-color: #3B4455;\n",
              "      fill: #D2E3FC;\n",
              "    }\n",
              "\n",
              "    [theme=dark] .colab-df-convert:hover {\n",
              "      background-color: #434B5C;\n",
              "      box-shadow: 0px 1px 3px 1px rgba(0, 0, 0, 0.15);\n",
              "      filter: drop-shadow(0px 1px 2px rgba(0, 0, 0, 0.3));\n",
              "      fill: #FFFFFF;\n",
              "    }\n",
              "  </style>\n",
              "\n",
              "    <script>\n",
              "      const buttonEl =\n",
              "        document.querySelector('#df-93e3644e-b62f-4011-9dd6-d1fd795c28b1 button.colab-df-convert');\n",
              "      buttonEl.style.display =\n",
              "        google.colab.kernel.accessAllowed ? 'block' : 'none';\n",
              "\n",
              "      async function convertToInteractive(key) {\n",
              "        const element = document.querySelector('#df-93e3644e-b62f-4011-9dd6-d1fd795c28b1');\n",
              "        const dataTable =\n",
              "          await google.colab.kernel.invokeFunction('convertToInteractive',\n",
              "                                                    [key], {});\n",
              "        if (!dataTable) return;\n",
              "\n",
              "        const docLinkHtml = 'Like what you see? Visit the ' +\n",
              "          '<a target=\"_blank\" href=https://colab.research.google.com/notebooks/data_table.ipynb>data table notebook</a>'\n",
              "          + ' to learn more about interactive tables.';\n",
              "        element.innerHTML = '';\n",
              "        dataTable['output_type'] = 'display_data';\n",
              "        await google.colab.output.renderOutput(dataTable, element);\n",
              "        const docLink = document.createElement('div');\n",
              "        docLink.innerHTML = docLinkHtml;\n",
              "        element.appendChild(docLink);\n",
              "      }\n",
              "    </script>\n",
              "  </div>\n",
              "\n",
              "\n",
              "<div id=\"df-9e3b07c5-7481-4686-8da4-365c12dd7d2a\">\n",
              "  <button class=\"colab-df-quickchart\" onclick=\"quickchart('df-9e3b07c5-7481-4686-8da4-365c12dd7d2a')\"\n",
              "            title=\"Suggest charts.\"\n",
              "            style=\"display:none;\">\n",
              "\n",
              "<svg xmlns=\"http://www.w3.org/2000/svg\" height=\"24px\"viewBox=\"0 0 24 24\"\n",
              "     width=\"24px\">\n",
              "    <g>\n",
              "        <path d=\"M19 3H5c-1.1 0-2 .9-2 2v14c0 1.1.9 2 2 2h14c1.1 0 2-.9 2-2V5c0-1.1-.9-2-2-2zM9 17H7v-7h2v7zm4 0h-2V7h2v10zm4 0h-2v-4h2v4z\"/>\n",
              "    </g>\n",
              "</svg>\n",
              "  </button>\n",
              "\n",
              "<style>\n",
              "  .colab-df-quickchart {\n",
              "      --bg-color: #E8F0FE;\n",
              "      --fill-color: #1967D2;\n",
              "      --hover-bg-color: #E2EBFA;\n",
              "      --hover-fill-color: #174EA6;\n",
              "      --disabled-fill-color: #AAA;\n",
              "      --disabled-bg-color: #DDD;\n",
              "  }\n",
              "\n",
              "  [theme=dark] .colab-df-quickchart {\n",
              "      --bg-color: #3B4455;\n",
              "      --fill-color: #D2E3FC;\n",
              "      --hover-bg-color: #434B5C;\n",
              "      --hover-fill-color: #FFFFFF;\n",
              "      --disabled-bg-color: #3B4455;\n",
              "      --disabled-fill-color: #666;\n",
              "  }\n",
              "\n",
              "  .colab-df-quickchart {\n",
              "    background-color: var(--bg-color);\n",
              "    border: none;\n",
              "    border-radius: 50%;\n",
              "    cursor: pointer;\n",
              "    display: none;\n",
              "    fill: var(--fill-color);\n",
              "    height: 32px;\n",
              "    padding: 0;\n",
              "    width: 32px;\n",
              "  }\n",
              "\n",
              "  .colab-df-quickchart:hover {\n",
              "    background-color: var(--hover-bg-color);\n",
              "    box-shadow: 0 1px 2px rgba(60, 64, 67, 0.3), 0 1px 3px 1px rgba(60, 64, 67, 0.15);\n",
              "    fill: var(--button-hover-fill-color);\n",
              "  }\n",
              "\n",
              "  .colab-df-quickchart-complete:disabled,\n",
              "  .colab-df-quickchart-complete:disabled:hover {\n",
              "    background-color: var(--disabled-bg-color);\n",
              "    fill: var(--disabled-fill-color);\n",
              "    box-shadow: none;\n",
              "  }\n",
              "\n",
              "  .colab-df-spinner {\n",
              "    border: 2px solid var(--fill-color);\n",
              "    border-color: transparent;\n",
              "    border-bottom-color: var(--fill-color);\n",
              "    animation:\n",
              "      spin 1s steps(1) infinite;\n",
              "  }\n",
              "\n",
              "  @keyframes spin {\n",
              "    0% {\n",
              "      border-color: transparent;\n",
              "      border-bottom-color: var(--fill-color);\n",
              "      border-left-color: var(--fill-color);\n",
              "    }\n",
              "    20% {\n",
              "      border-color: transparent;\n",
              "      border-left-color: var(--fill-color);\n",
              "      border-top-color: var(--fill-color);\n",
              "    }\n",
              "    30% {\n",
              "      border-color: transparent;\n",
              "      border-left-color: var(--fill-color);\n",
              "      border-top-color: var(--fill-color);\n",
              "      border-right-color: var(--fill-color);\n",
              "    }\n",
              "    40% {\n",
              "      border-color: transparent;\n",
              "      border-right-color: var(--fill-color);\n",
              "      border-top-color: var(--fill-color);\n",
              "    }\n",
              "    60% {\n",
              "      border-color: transparent;\n",
              "      border-right-color: var(--fill-color);\n",
              "    }\n",
              "    80% {\n",
              "      border-color: transparent;\n",
              "      border-right-color: var(--fill-color);\n",
              "      border-bottom-color: var(--fill-color);\n",
              "    }\n",
              "    90% {\n",
              "      border-color: transparent;\n",
              "      border-bottom-color: var(--fill-color);\n",
              "    }\n",
              "  }\n",
              "</style>\n",
              "\n",
              "  <script>\n",
              "    async function quickchart(key) {\n",
              "      const quickchartButtonEl =\n",
              "        document.querySelector('#' + key + ' button');\n",
              "      quickchartButtonEl.disabled = true;  // To prevent multiple clicks.\n",
              "      quickchartButtonEl.classList.add('colab-df-spinner');\n",
              "      try {\n",
              "        const charts = await google.colab.kernel.invokeFunction(\n",
              "            'suggestCharts', [key], {});\n",
              "      } catch (error) {\n",
              "        console.error('Error during call to suggestCharts:', error);\n",
              "      }\n",
              "      quickchartButtonEl.classList.remove('colab-df-spinner');\n",
              "      quickchartButtonEl.classList.add('colab-df-quickchart-complete');\n",
              "    }\n",
              "    (() => {\n",
              "      let quickchartButtonEl =\n",
              "        document.querySelector('#df-9e3b07c5-7481-4686-8da4-365c12dd7d2a button');\n",
              "      quickchartButtonEl.style.display =\n",
              "        google.colab.kernel.accessAllowed ? 'block' : 'none';\n",
              "    })();\n",
              "  </script>\n",
              "</div>\n",
              "    </div>\n",
              "  </div>\n"
            ]
          },
          "metadata": {},
          "execution_count": 112
        }
      ]
    },
    {
      "cell_type": "code",
      "source": [
        "df2['Outcome'].value_counts()\n"
      ],
      "metadata": {
        "colab": {
          "base_uri": "https://localhost:8080/"
        },
        "id": "SyPSoTvUdM_Y",
        "outputId": "3c0be98d-cc83-4496-8cf8-d1d0ccf0a555"
      },
      "execution_count": 113,
      "outputs": [
        {
          "output_type": "execute_result",
          "data": {
            "text/plain": [
              "0    15\n",
              "1    14\n",
              "Name: Outcome, dtype: int64"
            ]
          },
          "metadata": {},
          "execution_count": 113
        }
      ]
    },
    {
      "cell_type": "markdown",
      "source": [
        "0 -> Control\n",
        "\n",
        "1 -> Diseased(MS)"
      ],
      "metadata": {
        "id": "en8MWby1xtJw"
      }
    },
    {
      "cell_type": "code",
      "source": [
        "#Seperating the Data and Labels"
      ],
      "metadata": {
        "id": "9v1rdnImEv2I"
      },
      "execution_count": 114,
      "outputs": []
    },
    {
      "cell_type": "code",
      "source": [
        "x = df2.drop(columns = 'Outcome', axis = 1)\n",
        "y = df2['Outcome']"
      ],
      "metadata": {
        "id": "lebw9EezCnxY"
      },
      "execution_count": 115,
      "outputs": []
    },
    {
      "cell_type": "code",
      "source": [
        "print(x)"
      ],
      "metadata": {
        "colab": {
          "base_uri": "https://localhost:8080/"
        },
        "id": "jssrWY25KFyM",
        "outputId": "ef3d0e0f-cdfb-406a-f706-851db78b38e9"
      },
      "execution_count": 116,
      "outputs": [
        {
          "output_type": "stream",
          "name": "stdout",
          "text": [
            "        HBD    LTF  HBG2///HBG1   ALAS2  BOD1L1  HBG2///HBG1.1   MALAT1  \\\n",
            "0     123.9   12.9         13.9    31.3     9.1           36.7    372.7   \n",
            "1      53.6   11.5         87.7    10.4    10.4          100.4    604.7   \n",
            "2      42.2    8.2         45.8    10.4    15.1           36.8   1492.0   \n",
            "3      13.6   86.9         12.8     6.3     8.4            9.1    893.8   \n",
            "4      56.5    7.7         67.6     8.7    10.3           46.9    703.9   \n",
            "5      36.4    7.7         41.3     8.9     8.4           28.9    277.2   \n",
            "6      25.9   22.4         98.6     7.3     9.4          143.1    584.4   \n",
            "7      27.0    9.1         63.8     8.1     8.8          389.0    500.5   \n",
            "8      35.3    7.7         90.1     8.8     9.5           82.3    375.1   \n",
            "9      36.2   10.9        217.1     8.0    12.1          266.3    456.9   \n",
            "10    263.5    8.5        244.0    53.9     8.4          176.4    520.1   \n",
            "11     16.8    7.1         24.6     5.3    11.8           17.3   1219.6   \n",
            "12     35.4   23.2         38.7     9.0     9.3           39.1    837.1   \n",
            "13     30.6   17.3         18.8     8.8     9.8           19.9    500.6   \n",
            "14     17.9    8.0         14.5     5.3     8.4           10.0    279.1   \n",
            "15   1136.9  125.2        774.9   208.4   286.8          623.5  11997.4   \n",
            "16    754.4  143.1        611.8   203.8   168.6          361.7   7396.6   \n",
            "17    376.6  319.4       1227.9   112.4    80.1         1334.8   4635.8   \n",
            "18   1002.2  155.0        692.4   364.6   256.9          699.9  14039.8   \n",
            "19    536.7  449.3        770.3   183.6   511.1          544.9  18408.1   \n",
            "20  23146.2  305.8       5854.6  7101.2   257.8         5374.6  16029.3   \n",
            "21    690.2  248.3        667.3   126.5   235.7          520.6  10037.1   \n",
            "22    698.5   33.6       1332.6   238.0   345.3         1647.1  15874.7   \n",
            "23   1149.9  354.8       2541.1   324.9   313.1         1983.2  13607.7   \n",
            "24     85.4  259.6        129.9     8.9    13.5           81.9    838.1   \n",
            "25    406.1   57.4        209.5    76.7     8.5          262.0   1159.2   \n",
            "26    349.4   65.8        201.7    72.1   293.3          158.2  19645.8   \n",
            "27    332.8  404.3        498.5    21.4     8.6          431.0   1098.1   \n",
            "28    303.6  488.8        358.1    22.3   369.1          305.1  18104.4   \n",
            "\n",
            "    DEFA1B///DEFA3///DEFA1  SAMSN1  HBG2///HBG1.2  ...   GM2A  CASP2  FCAR  \\\n",
            "0                    707.7     8.5           42.2  ...  115.5   39.6  32.2   \n",
            "1                    138.3    50.2          103.7  ...  152.8   41.0  54.3   \n",
            "2                    163.9    36.6           58.1  ...  136.7   37.4  43.4   \n",
            "3                    348.1    11.3           12.2  ...   95.2   39.6  14.0   \n",
            "4                    296.9    12.4           57.8  ...  101.7   49.7  28.4   \n",
            "5                     81.1    15.6           50.2  ...  124.0   48.0  14.8   \n",
            "6                   1465.5    28.7           94.8  ...  126.4   73.2  27.8   \n",
            "7                     34.8    17.2           59.6  ...  115.1   41.9  18.6   \n",
            "8                     25.6    10.5           94.2  ...   96.1   56.2  11.9   \n",
            "9                    115.5    13.1          237.2  ...  129.4  101.4  64.6   \n",
            "10                   183.6     8.6          184.3  ...  127.0   62.4  38.8   \n",
            "11                    92.5    16.4           24.6  ...   87.6   64.7  38.2   \n",
            "12                  1322.7    14.4           48.1  ...   28.6   25.5  31.5   \n",
            "13                   173.4    11.3           28.0  ...   77.1   44.7  39.8   \n",
            "14                   283.6    10.1           16.9  ...  210.8   45.6  54.8   \n",
            "15                  4502.2   169.9          676.6  ...   11.8    7.0   6.0   \n",
            "16                  1218.0   105.7          321.4  ...    9.9    6.9   6.2   \n",
            "17                  3061.9    49.4         1525.9  ...    8.4    7.1   6.5   \n",
            "18                  1211.6   294.8          648.2  ...   44.4    7.1   6.6   \n",
            "19                  3790.7   397.6          614.0  ...    8.5   12.4   5.6   \n",
            "20                  5928.9   513.7         5791.8  ...   17.8    7.9   6.3   \n",
            "21                  3694.9   157.3          531.2  ...   39.9    7.6   6.1   \n",
            "22                   368.9   283.3         1476.5  ...   28.0    8.6   6.2   \n",
            "23                  3679.4   397.6         2098.9  ...   21.2   15.0   7.7   \n",
            "24                  9602.8    39.5           71.4  ...   79.1   46.6  16.8   \n",
            "25                   605.9    50.1          198.6  ...   85.4   28.3  20.9   \n",
            "26                   561.3   540.1          167.6  ...   26.7    7.9   6.4   \n",
            "27                  7384.5    15.5          401.7  ...   46.1   18.8   6.2   \n",
            "28                  6078.2   443.7          236.8  ...   24.4   17.6   6.1   \n",
            "\n",
            "    MOB3A  EIF2S3  SNRNP40   UBA6  MAT2A  HSPA1B///HSPA1A  C1orf174  \n",
            "0   224.5   971.7    144.6  307.5  165.4             90.8      83.2  \n",
            "1   155.6   726.2    106.1  159.6  146.7            213.0      91.9  \n",
            "2   129.7  1046.2    126.0  215.6   98.3            147.6      70.1  \n",
            "3   147.6   778.3    165.4  310.3  122.4             50.0      82.1  \n",
            "4   140.3   814.1    149.6  143.7  134.3            187.6     116.7  \n",
            "5   230.3   612.2    130.4  149.3  165.5            165.4     110.8  \n",
            "6   214.1   902.4    128.4  241.1  133.5            190.5      94.9  \n",
            "7   199.3  1358.7    125.1  237.7  149.4            122.5      73.9  \n",
            "8   166.7   678.2    133.4  249.1  143.7            137.5      86.7  \n",
            "9   154.9  1296.6    141.7  101.1  131.1            213.9      98.2  \n",
            "10  179.3   576.3    149.9  150.9  133.5             93.0      90.3  \n",
            "11   83.9  1043.9    110.1  210.8   89.6            195.8      78.7  \n",
            "12   88.4   490.6    154.9  247.0  122.4            158.8      68.2  \n",
            "13  165.3  1264.3    182.7  128.1  157.7            176.6      82.8  \n",
            "14  240.4  1116.9    145.0  229.8  187.2            116.2     100.9  \n",
            "15   37.8   305.2     17.1  110.7   23.8             30.2      12.5  \n",
            "16   37.4   151.9     27.1   64.5   29.2             36.9      13.4  \n",
            "17   23.4   110.9     23.0   21.6   24.2             32.9      31.1  \n",
            "18   35.6   198.2     20.1    9.6   38.4             35.4       8.8  \n",
            "19   18.9   180.2     20.8   65.1   20.8             25.6      20.0  \n",
            "20   19.6   106.2     31.1    9.2   25.6             19.6       9.7  \n",
            "21   38.0    93.5     33.7   42.4   37.5             50.4      15.2  \n",
            "22   37.8   374.3     23.0  134.4   29.3             36.7      13.9  \n",
            "23   15.8   251.6     39.2    9.3   23.6             26.9      20.7  \n",
            "24  160.7   767.2     99.6  168.4   95.4             66.0      55.3  \n",
            "25  115.7   616.6     95.3  121.8  104.8             61.5      98.2  \n",
            "26   49.0   231.7     44.8   69.9   22.5             51.0      35.9  \n",
            "27   77.3   269.5     79.4  118.6   90.9             47.9      64.9  \n",
            "28   37.9   142.1     35.4   79.8   35.1             40.4      25.1  \n",
            "\n",
            "[29 rows x 37 columns]\n"
          ]
        }
      ]
    },
    {
      "cell_type": "code",
      "source": [
        "print(y)"
      ],
      "metadata": {
        "colab": {
          "base_uri": "https://localhost:8080/"
        },
        "id": "95anVh4nLOlY",
        "outputId": "601b1384-27c1-4145-9ed7-d293ccb5f70a"
      },
      "execution_count": 117,
      "outputs": [
        {
          "output_type": "stream",
          "name": "stdout",
          "text": [
            "0     0\n",
            "1     0\n",
            "2     0\n",
            "3     0\n",
            "4     0\n",
            "5     0\n",
            "6     0\n",
            "7     0\n",
            "8     0\n",
            "9     0\n",
            "10    0\n",
            "11    0\n",
            "12    0\n",
            "13    0\n",
            "14    0\n",
            "15    1\n",
            "16    1\n",
            "17    1\n",
            "18    1\n",
            "19    1\n",
            "20    1\n",
            "21    1\n",
            "22    1\n",
            "23    1\n",
            "24    1\n",
            "25    1\n",
            "26    1\n",
            "27    1\n",
            "28    1\n",
            "Name: Outcome, dtype: int64\n"
          ]
        }
      ]
    },
    {
      "cell_type": "code",
      "source": [
        "#Training and Test data"
      ],
      "metadata": {
        "id": "zI-mFP2fRO1a"
      },
      "execution_count": 118,
      "outputs": []
    },
    {
      "cell_type": "code",
      "source": [
        "x_train, x_test, y_train, y_test = train_test_split(x,y,test_size = 0.30 ,random_state = 38 )"
      ],
      "metadata": {
        "id": "FizG1xTXLeCj"
      },
      "execution_count": 119,
      "outputs": []
    },
    {
      "cell_type": "code",
      "source": [
        "print(x.shape , x_train.shape , x_test.shape)"
      ],
      "metadata": {
        "colab": {
          "base_uri": "https://localhost:8080/"
        },
        "id": "iVTO7UCZQ6n_",
        "outputId": "a8abf973-da46-4af9-af17-c63b11970935"
      },
      "execution_count": 120,
      "outputs": [
        {
          "output_type": "stream",
          "name": "stdout",
          "text": [
            "(29, 37) (20, 37) (9, 37)\n"
          ]
        }
      ]
    },
    {
      "cell_type": "markdown",
      "source": [
        "Model Training -> Logistic Regression"
      ],
      "metadata": {
        "id": "0qt_CYQNRm3Q"
      }
    },
    {
      "cell_type": "code",
      "source": [
        "model = LogisticRegression()"
      ],
      "metadata": {
        "id": "eHsAgVJWRLJg"
      },
      "execution_count": 121,
      "outputs": []
    },
    {
      "cell_type": "code",
      "source": [
        "# Training the logistic regression model with Training data"
      ],
      "metadata": {
        "id": "FlmqYo-gR2om"
      },
      "execution_count": 122,
      "outputs": []
    },
    {
      "cell_type": "code",
      "source": [
        "model.fit(x_train,y_train)"
      ],
      "metadata": {
        "colab": {
          "base_uri": "https://localhost:8080/",
          "height": 74
        },
        "id": "7DPqFESXR9PI",
        "outputId": "76655e29-fbd1-4ea4-e17b-f3425d8dfaf0"
      },
      "execution_count": 123,
      "outputs": [
        {
          "output_type": "execute_result",
          "data": {
            "text/plain": [
              "LogisticRegression()"
            ],
            "text/html": [
              "<style>#sk-container-id-3 {color: black;background-color: white;}#sk-container-id-3 pre{padding: 0;}#sk-container-id-3 div.sk-toggleable {background-color: white;}#sk-container-id-3 label.sk-toggleable__label {cursor: pointer;display: block;width: 100%;margin-bottom: 0;padding: 0.3em;box-sizing: border-box;text-align: center;}#sk-container-id-3 label.sk-toggleable__label-arrow:before {content: \"▸\";float: left;margin-right: 0.25em;color: #696969;}#sk-container-id-3 label.sk-toggleable__label-arrow:hover:before {color: black;}#sk-container-id-3 div.sk-estimator:hover label.sk-toggleable__label-arrow:before {color: black;}#sk-container-id-3 div.sk-toggleable__content {max-height: 0;max-width: 0;overflow: hidden;text-align: left;background-color: #f0f8ff;}#sk-container-id-3 div.sk-toggleable__content pre {margin: 0.2em;color: black;border-radius: 0.25em;background-color: #f0f8ff;}#sk-container-id-3 input.sk-toggleable__control:checked~div.sk-toggleable__content {max-height: 200px;max-width: 100%;overflow: auto;}#sk-container-id-3 input.sk-toggleable__control:checked~label.sk-toggleable__label-arrow:before {content: \"▾\";}#sk-container-id-3 div.sk-estimator input.sk-toggleable__control:checked~label.sk-toggleable__label {background-color: #d4ebff;}#sk-container-id-3 div.sk-label input.sk-toggleable__control:checked~label.sk-toggleable__label {background-color: #d4ebff;}#sk-container-id-3 input.sk-hidden--visually {border: 0;clip: rect(1px 1px 1px 1px);clip: rect(1px, 1px, 1px, 1px);height: 1px;margin: -1px;overflow: hidden;padding: 0;position: absolute;width: 1px;}#sk-container-id-3 div.sk-estimator {font-family: monospace;background-color: #f0f8ff;border: 1px dotted black;border-radius: 0.25em;box-sizing: border-box;margin-bottom: 0.5em;}#sk-container-id-3 div.sk-estimator:hover {background-color: #d4ebff;}#sk-container-id-3 div.sk-parallel-item::after {content: \"\";width: 100%;border-bottom: 1px solid gray;flex-grow: 1;}#sk-container-id-3 div.sk-label:hover label.sk-toggleable__label {background-color: #d4ebff;}#sk-container-id-3 div.sk-serial::before {content: \"\";position: absolute;border-left: 1px solid gray;box-sizing: border-box;top: 0;bottom: 0;left: 50%;z-index: 0;}#sk-container-id-3 div.sk-serial {display: flex;flex-direction: column;align-items: center;background-color: white;padding-right: 0.2em;padding-left: 0.2em;position: relative;}#sk-container-id-3 div.sk-item {position: relative;z-index: 1;}#sk-container-id-3 div.sk-parallel {display: flex;align-items: stretch;justify-content: center;background-color: white;position: relative;}#sk-container-id-3 div.sk-item::before, #sk-container-id-3 div.sk-parallel-item::before {content: \"\";position: absolute;border-left: 1px solid gray;box-sizing: border-box;top: 0;bottom: 0;left: 50%;z-index: -1;}#sk-container-id-3 div.sk-parallel-item {display: flex;flex-direction: column;z-index: 1;position: relative;background-color: white;}#sk-container-id-3 div.sk-parallel-item:first-child::after {align-self: flex-end;width: 50%;}#sk-container-id-3 div.sk-parallel-item:last-child::after {align-self: flex-start;width: 50%;}#sk-container-id-3 div.sk-parallel-item:only-child::after {width: 0;}#sk-container-id-3 div.sk-dashed-wrapped {border: 1px dashed gray;margin: 0 0.4em 0.5em 0.4em;box-sizing: border-box;padding-bottom: 0.4em;background-color: white;}#sk-container-id-3 div.sk-label label {font-family: monospace;font-weight: bold;display: inline-block;line-height: 1.2em;}#sk-container-id-3 div.sk-label-container {text-align: center;}#sk-container-id-3 div.sk-container {/* jupyter's `normalize.less` sets `[hidden] { display: none; }` but bootstrap.min.css set `[hidden] { display: none !important; }` so we also need the `!important` here to be able to override the default hidden behavior on the sphinx rendered scikit-learn.org. See: https://github.com/scikit-learn/scikit-learn/issues/21755 */display: inline-block !important;position: relative;}#sk-container-id-3 div.sk-text-repr-fallback {display: none;}</style><div id=\"sk-container-id-3\" class=\"sk-top-container\"><div class=\"sk-text-repr-fallback\"><pre>LogisticRegression()</pre><b>In a Jupyter environment, please rerun this cell to show the HTML representation or trust the notebook. <br />On GitHub, the HTML representation is unable to render, please try loading this page with nbviewer.org.</b></div><div class=\"sk-container\" hidden><div class=\"sk-item\"><div class=\"sk-estimator sk-toggleable\"><input class=\"sk-toggleable__control sk-hidden--visually\" id=\"sk-estimator-id-3\" type=\"checkbox\" checked><label for=\"sk-estimator-id-3\" class=\"sk-toggleable__label sk-toggleable__label-arrow\">LogisticRegression</label><div class=\"sk-toggleable__content\"><pre>LogisticRegression()</pre></div></div></div></div></div>"
            ]
          },
          "metadata": {},
          "execution_count": 123
        }
      ]
    },
    {
      "cell_type": "markdown",
      "source": [
        "Model Evaluation\n"
      ],
      "metadata": {
        "id": "POYPLYGGS7ON"
      }
    },
    {
      "cell_type": "code",
      "source": [
        "# Accuracy on training data"
      ],
      "metadata": {
        "id": "-L5QAjAmS-0X"
      },
      "execution_count": 124,
      "outputs": []
    },
    {
      "cell_type": "code",
      "source": [
        "x_train_prediction = model.predict(x_train)"
      ],
      "metadata": {
        "id": "KhMUaItdTLXb"
      },
      "execution_count": 125,
      "outputs": []
    },
    {
      "cell_type": "code",
      "source": [
        "training_data_accuracy = accuracy_score(x_train_prediction , y_train)"
      ],
      "metadata": {
        "id": "PUNA5IZFThkG"
      },
      "execution_count": 126,
      "outputs": []
    },
    {
      "cell_type": "code",
      "source": [
        "print(\"Accuracy of training data : \" , training_data_accuracy)"
      ],
      "metadata": {
        "colab": {
          "base_uri": "https://localhost:8080/"
        },
        "id": "fiYG4aq1TzFs",
        "outputId": "828bfaf6-83a4-4864-a158-d0936ad457e7"
      },
      "execution_count": 127,
      "outputs": [
        {
          "output_type": "stream",
          "name": "stdout",
          "text": [
            "Accuracy of training data :  1.0\n"
          ]
        }
      ]
    },
    {
      "cell_type": "code",
      "source": [
        "# Accuracy on test data"
      ],
      "metadata": {
        "id": "GAnr_eUZURXM"
      },
      "execution_count": 128,
      "outputs": []
    },
    {
      "cell_type": "code",
      "source": [
        "x_test_prediction = model.predict(x_test)"
      ],
      "metadata": {
        "id": "M5D7UTm8UZRb"
      },
      "execution_count": 129,
      "outputs": []
    },
    {
      "cell_type": "code",
      "source": [
        "test_data_accuracy = accuracy_score(x_test_prediction , y_test)"
      ],
      "metadata": {
        "id": "JRcingBwUsj1"
      },
      "execution_count": 130,
      "outputs": []
    },
    {
      "cell_type": "code",
      "source": [
        "print(\"Accuracy of test data : \" , test_data_accuracy)"
      ],
      "metadata": {
        "colab": {
          "base_uri": "https://localhost:8080/"
        },
        "id": "IZE2GJUyU-4R",
        "outputId": "5bfcba65-75d3-497d-8de2-27af4cd4c6ad"
      },
      "execution_count": 131,
      "outputs": [
        {
          "output_type": "stream",
          "name": "stdout",
          "text": [
            "Accuracy of test data :  1.0\n"
          ]
        }
      ]
    },
    {
      "cell_type": "code",
      "source": [
        "from sklearn.metrics import classification_report, confusion_matrix"
      ],
      "metadata": {
        "id": "o5271aJbv1bE"
      },
      "execution_count": 132,
      "outputs": []
    },
    {
      "cell_type": "code",
      "source": [
        "# Confusion matrix"
      ],
      "metadata": {
        "id": "SuIqCHn2v1_-"
      },
      "execution_count": 133,
      "outputs": []
    },
    {
      "cell_type": "code",
      "source": [
        "test_confusion_metrix = confusion_matrix(x_test_prediction , y_test)\n",
        "print(\"Confusion Matrix : \", test_confusion_metrix)"
      ],
      "metadata": {
        "colab": {
          "base_uri": "https://localhost:8080/"
        },
        "id": "cQUrr5wGv2eD",
        "outputId": "69074b52-cf4a-4c17-f235-f9f511b0dc4f"
      },
      "execution_count": 134,
      "outputs": [
        {
          "output_type": "stream",
          "name": "stdout",
          "text": [
            "Confusion Matrix :  [[5 0]\n",
            " [0 4]]\n"
          ]
        }
      ]
    },
    {
      "cell_type": "code",
      "source": [
        "# Calculation Report"
      ],
      "metadata": {
        "id": "KrKIaKclv24a"
      },
      "execution_count": 135,
      "outputs": []
    },
    {
      "cell_type": "code",
      "source": [
        "test_classification_report = classification_report(x_test_prediction , y_test)\n",
        "print(\"Classification Report :\")\n",
        "print(test_classification_report)"
      ],
      "metadata": {
        "colab": {
          "base_uri": "https://localhost:8080/"
        },
        "id": "hbr5a379wktI",
        "outputId": "39e62a39-5ded-4a50-8abc-f5b4fc0d5681"
      },
      "execution_count": 136,
      "outputs": [
        {
          "output_type": "stream",
          "name": "stdout",
          "text": [
            "Classification Report :\n",
            "              precision    recall  f1-score   support\n",
            "\n",
            "           0       1.00      1.00      1.00         5\n",
            "           1       1.00      1.00      1.00         4\n",
            "\n",
            "    accuracy                           1.00         9\n",
            "   macro avg       1.00      1.00      1.00         9\n",
            "weighted avg       1.00      1.00      1.00         9\n",
            "\n"
          ]
        }
      ]
    },
    {
      "cell_type": "markdown",
      "source": [
        "Making a Predictive Model"
      ],
      "metadata": {
        "id": "TZ1mxF1DVXAn"
      }
    },
    {
      "cell_type": "code",
      "source": [
        "# Giving a random sample value from the table"
      ],
      "metadata": {
        "id": "jf96FGJvxQww"
      },
      "execution_count": 137,
      "outputs": []
    },
    {
      "cell_type": "markdown",
      "source": [
        "1st Sample"
      ],
      "metadata": {
        "id": "Zg_8XRa8y15c"
      }
    },
    {
      "cell_type": "code",
      "source": [
        "input_data = (23146.2,305.8,5854.6,7101.2,257.8,5374.6,16029.3,5928.9,513.7,5791.8,877,391.7,3001,1749.8,201.6,346.6,409.7,847.7,1041,36441.4,30.4,49.1,20.4,22.5,30.6,25.6,8.1,17.8,7.9,6.3,19.6,106.2,31.1,9.2,25.6,19.6,9.7)"
      ],
      "metadata": {
        "id": "FUHg52bEVbZ8"
      },
      "execution_count": 138,
      "outputs": []
    },
    {
      "cell_type": "code",
      "source": [
        "# Changing the input data into a numpy array and Reshapping the array"
      ],
      "metadata": {
        "id": "AGDnBtp4Vm_u"
      },
      "execution_count": 103,
      "outputs": []
    },
    {
      "cell_type": "code",
      "source": [
        "input_data_numpy = np.asarray(input_data)\n",
        "input_data_reshapped = input_data_numpy.reshape(1,-1)\n",
        "prediction = model.predict(input_data_reshapped)"
      ],
      "metadata": {
        "id": "v6dd_-5HVvWC",
        "colab": {
          "base_uri": "https://localhost:8080/"
        },
        "outputId": "de485e3d-70b9-4c44-e433-3e0b43148553"
      },
      "execution_count": 139,
      "outputs": [
        {
          "output_type": "stream",
          "name": "stderr",
          "text": [
            "/usr/local/lib/python3.10/dist-packages/sklearn/base.py:439: UserWarning: X does not have valid feature names, but LogisticRegression was fitted with feature names\n",
            "  warnings.warn(\n"
          ]
        }
      ]
    },
    {
      "cell_type": "code",
      "source": [
        "print(prediction)\n",
        "if(prediction == 0):\n",
        "  print(\"Control Sample\")\n",
        "else:\n",
        "  print(\"Diseased Sample\")"
      ],
      "metadata": {
        "colab": {
          "base_uri": "https://localhost:8080/"
        },
        "id": "VUG6AqZ4Zsmv",
        "outputId": "4b9df6b5-70ef-4d91-968f-e0dc3c231268"
      },
      "execution_count": 140,
      "outputs": [
        {
          "output_type": "stream",
          "name": "stdout",
          "text": [
            "[1]\n",
            "Diseased Sample\n"
          ]
        }
      ]
    },
    {
      "cell_type": "markdown",
      "source": [
        "2nd Sample\n"
      ],
      "metadata": {
        "id": "djWVRLjLy9I3"
      }
    },
    {
      "cell_type": "code",
      "source": [
        "input_data1 = (36.2,10.9,217.1,8,12.1,266.3,456.9,115.5,13.1,237.2,95.2,521.6,25.8,153,20,48.8,6.3,101.3,13.7,2410.4,1150.9,462.3,174.8,240.5,474.2,485.5,89.3,129.4,101.4,64.6,154.9,1296.6,141.7,101.1,131.1,213.9,98.2)"
      ],
      "metadata": {
        "id": "1AB-tn25y_0y"
      },
      "execution_count": 141,
      "outputs": []
    },
    {
      "cell_type": "code",
      "source": [
        "input_data_numpy1 = np.asarray(input_data1)\n",
        "input_data_reshapped1 = input_data_numpy1.reshape(1,-1)\n",
        "prediction1 = model.predict(input_data_reshapped1)"
      ],
      "metadata": {
        "colab": {
          "base_uri": "https://localhost:8080/"
        },
        "id": "Feu2ZtRxy7Zu",
        "outputId": "88fbc169-0201-4daf-c2ca-e4ddb74db1c1"
      },
      "execution_count": 142,
      "outputs": [
        {
          "output_type": "stream",
          "name": "stderr",
          "text": [
            "/usr/local/lib/python3.10/dist-packages/sklearn/base.py:439: UserWarning: X does not have valid feature names, but LogisticRegression was fitted with feature names\n",
            "  warnings.warn(\n"
          ]
        }
      ]
    },
    {
      "cell_type": "code",
      "source": [
        "print(prediction1)\n",
        "if(prediction1 == 0):\n",
        "  print(\"Control Sample\")\n",
        "else:\n",
        "  print(\"Diseased Sample\")"
      ],
      "metadata": {
        "colab": {
          "base_uri": "https://localhost:8080/"
        },
        "id": "jf0rg0pqz8dv",
        "outputId": "24ddcf57-52b0-4361-f8e1-37001c77ee34"
      },
      "execution_count": 143,
      "outputs": [
        {
          "output_type": "stream",
          "name": "stdout",
          "text": [
            "[0]\n",
            "Control Sample\n"
          ]
        }
      ]
    }
  ]
}